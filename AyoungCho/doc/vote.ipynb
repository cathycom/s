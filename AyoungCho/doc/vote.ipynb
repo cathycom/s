{
 "cells": [
  {
   "cell_type": "code",
   "execution_count": 2,
   "metadata": {
    "collapsed": false
   },
   "outputs": [],
   "source": [
    "import numpy as np\n",
    "\n",
    "def vote(a,b,c):\n",
    "    result = np.random.randint(0,3)\n",
    "    if result == 0:\n",
    "        return \"오늘의 발표자는 %s 입니다.\" %a\n",
    "    elif result == 1:\n",
    "        return \"오늘의 발표자는 %s 입니다.\" %b\n",
    "    else:\n",
    "        return \"오늘의 발표자는 %s 입니다.\" %c"
   ]
  },
  {
   "cell_type": "code",
   "execution_count": null,
   "metadata": {
    "collapsed": false
   },
   "outputs": [],
   "source": [
    "vote('hw','hj','ay')"
   ]
  }
 ],
 "metadata": {
  "kernelspec": {
   "display_name": "Python 3",
   "language": "python",
   "name": "python3"
  },
  "language_info": {
   "codemirror_mode": {
    "name": "ipython",
    "version": 3
   },
   "file_extension": ".py",
   "mimetype": "text/x-python",
   "name": "python",
   "nbconvert_exporter": "python",
   "pygments_lexer": "ipython3",
   "version": "3.5.1"
  }
 },
 "nbformat": 4,
 "nbformat_minor": 0
}
