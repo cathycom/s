{
 "cells": [
  {
   "cell_type": "markdown",
   "metadata": {},
   "source": [
    "# 5장 LR(Logistic Regression)\n",
    "\n",
    "## 로지스틱 회귀의 일반적인 접근 방법\n",
    "\n",
    "1. 수집: 모든 방법\n",
    "2. 준비: 수치형 값은 거리를 계산하는 데 필요. 구조적인 데이터 형태가 가장 좋음\n",
    "3. 분석: 모든 방법\n",
    "4. 훈련: 훈련하는 데 대부분의 시간을 보내며, 이 단계에서 데이터를 분류하기 위해 최적의 계수를 찾음\n",
    "5. 검사: 훈련 단계를 마치고 나면 분류는 빠르고 쉽게 진핻욈\n",
    "6. 사용: 이 응용 프로그램은 약간의 입력 데이터가 있어야 하며, 수치형으로 구성된 값을 출력함. <br>그런 다음 응용 프로그램은 입력 데이터에 간단한 회귀 계산을 적용하고 입력 데이터가 속하는 분류 창을 결정함. 또한, <br>응용 프로그램은 계산된 분류 항목에서 몇 가지 동작을 수행함\n",
    "\n",
    "## 5.1 로지스틱 회귀와 시그모이드 함수로 분류하기: 다루기 쉬운 계단 함수\n",
    "### 로지스틱 회귀\n",
    "장점: 계산 비용이 작음, 구현이 쉬움, 결과 해석을 위한 지식 표현이 쉬움 <br>\n",
    "단점: 언더피팅(underfitting) 경향이 있어, 정확도가 낮게 나올 수도 있음 <br>\n",
    "활용: 수치형 값, 명목형 값"
   ]
  },
  {
   "cell_type": "markdown",
   "metadata": {},
   "source": [
    "### 시그모이드(sigmoid)\n",
    "σ(z) = 1/(1+e^(-z))1\n",
    "두 가지의 시그모이드 플롯을 표현 :\n",
    "<img src='sigmoid.PNG' width = 500 height = 500>\n",
    "0일 때, 시그모이드의 값은 0.5\n",
    "x값이 증가하면 시그모이드는 1에 가까워지고, x값을 줄이면 시그모이드는 0에 가까워짐\n",
    "하단의 그림처럼 크기를 크게 하면, 시그모이드는 계단 함수처럼 보임\n",
    "\n",
    "로지스틱 회귀 분류기를 위해 가지고 있는 각각의 속성에 가중치를 곱한 다음 서로 더함\n",
    "그 결과를 시그모이드에 넣고 0에서 1사이의 수를 구함\n",
    "이 수가 0.5이상이면 1로 분류될 것이며, 0.5이하이면 0으로 분류됨\n",
    "우리는 로지스틱 회귀를 마치 확률 추정치처럼 생각해 볼 수 있음\n",
    "\n",
    "설명한 시그모이드 함수의 입력은 z이며, 이 z는 다음과 같이 주어짐\n",
    "z = w0x0+w1x1+w2x2+...+wnxn\n",
    "위 식을 벡터로 표현하면 z=w^Tx처럼 쓸 수 있음\n",
    "이는 2개의 숫자 벡터의 각 요소들을 곱한 다음 다시 하나의 수를 구하기 위해 서로 더한다는 의미를 가짐\n",
    "벡터 x는 입력 데이터이며, 가장 좋은 계수 w를 찾고자 함\n",
    "이를 위해서는 최적화 이론으로부터 몇 가지를 고려해야함"
   ]
  },
  {
   "cell_type": "markdown",
   "metadata": {},
   "source": [
    "## 5.2.1 기울기 상승\n",
    "<기울기 상승 최적화 알고리즘>\n",
    "기울기 상승은 함수에서 최대 지점을 찾고자 할 때, 이 지점으로 이동하는 가장 좋은 방법이 기울기의 방향에 있다는 생각을 기반으로 함\n",
    "기울기는 ∇ 기호로 쓰며, 함수 f(x,y)의 기울기는 다음과 같은 방정식으로 표현됨\n",
    "<img src='gradientOfFunction.PNG'>\n",
    "이 기울기는 ∂f(x,y)/∂x 만큼 x 방향으로, ∂f(x,y)/∂y 만큼 y 방향으로 이동하는 것을 의미함\n",
    "함수 f(x,y)는 따로 정의가 필요하며, 평가가 이루어지는 지점 근처에서 미분이 가능해야 함\n",
    "<img src='gradientAscent.PNG' width=500 height=500>\n",
    "기울기 상승 알고리즘은 각 지점에서 평가된 기울기의 방향으로 이동함\n",
    "P0지점을 시작으로 기울기는 평가되고 함수는 다음 지점인 P1으로 이동함\n",
    "기울기는 P1지점에서 재평가되고 함수는 P2로 이동함\n",
    "이 원은 멈춤 조건이 만족될 때까지 되풀이됨\n",
    "기울기 연산자는 항상 최선의 방향으로 이동\n",
    "<br><br><b>기울기 하강</b>\n",
    "<br>w: = w-α∇_wf(w)\n",
    "<br>기울기 하강은 함수를 최대화하는 것이 아니라 최소화를 시도하고자 하는 것\n",
    "<img src='gradientDscent.PNG' widht=500 height=500>\n",
    "## 5.2.2 기울기 상승을 사용하여 가장 좋은 매개변수 찾기\n",
    "위 그림에는 100개의 데이터가 점으로 표현되어 있음\n",
    "<br>각각의 점은 두가지 수치형 속성 X1과 X2를 가짐\n",
    "<br>데이터에 대한 로지스틱 회귀 모델을 구축하는데 가장 알맞은 매개변수를 찾기 위해 기울기 상승을 시도하여 주어진 데이터 집합에 가장 좋은 가중치를 찾음"
   ]
  },
  {
   "cell_type": "code",
   "execution_count": 1,
   "metadata": {
    "collapsed": true
   },
   "outputs": [],
   "source": [
    "#5.1 로지스틱 회귀 기울기 상승 최적화 함수\n",
    "from numpy import *\n",
    "\n",
    "def loadDataSet():\n",
    "    dataMat = []; labelMat = []\n",
    "    fr = open('testSet.txt')\n",
    "    for line in fr.readlines():\n",
    "        lineArr = line.strip().split()\n",
    "        dataMat.append([1.0, float(lineArr[0]), float(lineArr[1])])\n",
    "        labelMat.append(int(lineArr[2]))\n",
    "    return dataMat,labelMat\n",
    "\n",
    "def sigmoid(inX):\n",
    "    return 1.0/(1+exp(-inX))\n",
    "\n",
    "def gradAscent(dataMatIn, classLabels):\n",
    "    dataMatrix = mat(dataMatIn)\n",
    "    labelMat = mat(classLabels).transpose()\n",
    "    m,n = shape(dataMatrix)\n",
    "    alpha = 0.001\n",
    "    maxCycles = 500\n",
    "    weights = ones((n,1))\n",
    "    for k in range(maxCycles):\n",
    "        h = sigmoid(dataMatrix*weights)\n",
    "        error = (labelMat - h)\n",
    "        weights = weights + alpha * dataMatrix.transpose()* error\n",
    "    return weights"
   ]
  },
  {
   "cell_type": "code",
   "execution_count": 2,
   "metadata": {
    "collapsed": false
   },
   "outputs": [
    {
     "data": {
      "text/plain": [
       "matrix([[ 4.12414349],\n",
       "        [ 0.48007329],\n",
       "        [-0.6168482 ]])"
      ]
     },
     "execution_count": 2,
     "metadata": {},
     "output_type": "execute_result"
    }
   ],
   "source": [
    "dataArr, labelMat = loadDataSet()\n",
    "gradAscent(dataArr, labelMat)"
   ]
  },
  {
   "cell_type": "markdown",
   "metadata": {},
   "source": [
    "## 5.2.3 분석: 의사결정 경계선 플롯하기\n",
    "여기서는 하나의 선을 만드는 데 사용된 가중치의 집합을 해결하고, 분류항목이 서로 다른 데이터를 분리함"
   ]
  },
  {
   "cell_type": "code",
   "execution_count": 16,
   "metadata": {
    "collapsed": true
   },
   "outputs": [],
   "source": [
    "#5.2 로지스틱 회귀 최적선과 데이터 집합 플롯하기\n",
    "%matplotlib inline\n",
    "def plotBestFit(wei):\n",
    "    import matplotlib.pyplot as plt\n",
    "    #weights = wei.getA()\n",
    "    weights = wei\n",
    "    dataMat,labelMat=loadDataSet()\n",
    "    dataArr = array(dataMat)\n",
    "    n = shape(dataArr)[0]\n",
    "    xcord1 = []; ycord1 = []\n",
    "    xcord2 = []; ycord2 = []\n",
    "    for i in range(n):\n",
    "        if int(labelMat[i]) == 1:\n",
    "            xcord1.append(dataArr[i,1]); ycord1.append(dataArr[i,2])\n",
    "        else:\n",
    "            xcord2.append(dataArr[i,1]); ycord2.append(dataArr[i,2])\n",
    "    fig = plt.figure()\n",
    "    ax = fig.add_subplot(111)\n",
    "    ax.scatter(xcord1, ycord1, s=30, c='red', marker='s')\n",
    "    ax.scatter(xcord2, ycord2, s=30, c='green')\n",
    "    x = arange(-3.0, 3.0, 0.1)\n",
    "    y = (-weights[0]-weights[1]*x)/weights[2]\n",
    "    ax.plot(x, y)\n",
    "    plt.xlabel('X1'); plt.ylabel('X2');\n",
    "    plt.show()"
   ]
  },
  {
   "cell_type": "code",
   "execution_count": 17,
   "metadata": {
    "collapsed": false
   },
   "outputs": [
    {
     "data": {
      "image/png": "[encoded data removed]",
      "text/plain": [
       "<matplotlib.figure.Figure at 0x8264e10>"
      ]
     },
     "metadata": {},
     "output_type": "display_data"
    }
   ],
   "source": [
    "weights = gradAscent(dataArr, labelMat)\n",
    "plotBestFit(weights.getA())"
   ]
  },
  {
   "cell_type": "markdown",
   "metadata": {},
   "source": [
    "## 5.2.4 훈련: 확률적인 기울기 상승\n",
    "앞서 알아본 최적화 알고리즘의 기울기 상승은 갱신된 모든 데이터 집합을 사용함\n",
    "이것은 100개의 데이터 예제를 다루어서 괜찮았지만 데이터가 많으면 불필요한 계산을 너무 많이 하게 됨\n",
    "<br>이러한 방법의 대안은 한 번에 단 하나의 사례를 사용하여 가중치를 갱신하는 것임 이러한 방법을 <b>확률 기울기 상승</b>이라고 함"
   ]
  },
  {
   "cell_type": "code",
   "execution_count": 18,
   "metadata": {
    "collapsed": true
   },
   "outputs": [],
   "source": [
    "#5.3 확률 기울기 상승\n",
    "def stocGradAscent0(dataMatrix, classLabels):\n",
    "    m,n = shape(dataMatrix)\n",
    "    alpha = 0.01\n",
    "    weights = ones(n)\n",
    "    for i in range(m):\n",
    "        h = sigmoid(sum(dataMatrix[i]*weights))\n",
    "        error = classLabels[i] - h\n",
    "        weights = weights + alpha * error * dataMatrix[i]\n",
    "    return weights"
   ]
  },
  {
   "cell_type": "code",
   "execution_count": 19,
   "metadata": {
    "collapsed": false
   },
   "outputs": [
    {
     "data": {
      "image/png": "[encoded data removed]",
      "text/plain": [
       "<matplotlib.figure.Figure at 0x7de3e10>"
      ]
     },
     "metadata": {},
     "output_type": "display_data"
    }
   ],
   "source": [
    "from numpy import *\n",
    "dataArr, labelMat = loadDataSet()\n",
    "weights = stocGradAscent0(array(dataArr), labelMat)\n",
    "plotBestFit(weights)"
   ]
  },
  {
   "cell_type": "code",
   "execution_count": 20,
   "metadata": {
    "collapsed": false
   },
   "outputs": [],
   "source": [
    "#5.4 수정된 확률 기울기 상승 알고리즘\n",
    "def stocGradAscent1(dataMatrix, classLabels, numIter=150):\n",
    "    m,n = shape(dataMatrix)\n",
    "    weights = ones(n)\n",
    "    for j in range(numIter): \n",
    "        dataIndex = range(m)\n",
    "        for i in range(m):\n",
    "            alpha = 4/(1.0+j+i)+0.01\n",
    "            randIndex = int(random.uniform(0,len(dataIndex)))\n",
    "            h = sigmoid(sum(dataMatrix[randIndex]*weights))\n",
    "            error = classLabels[randIndex] - h\n",
    "            weights = weights + alpha * error * dataMatrix[randIndex]\n",
    "            del(dataIndex[randIndex])\n",
    "    return weights"
   ]
  },
  {
   "cell_type": "code",
   "execution_count": 21,
   "metadata": {
    "collapsed": false
   },
   "outputs": [
    {
     "data": {
      "image/png": "[encoded data removed]",
      "text/plain": [
       "<matplotlib.figure.Figure at 0x81de6d8>"
      ]
     },
     "metadata": {},
     "output_type": "display_data"
    }
   ],
   "source": [
    "dataArr, labelMat = loadDataSet()\n",
    "weights = stocGradAscent1(array(dataArr), labelMat)\n",
    "plotBestFit(weights)"
   ]
  },
  {
   "cell_type": "markdown",
   "metadata": {},
   "source": [
    "## 5.3 예제: 말의 배앓이 치사율 평가하기\n",
    "1. 수집: 제공된 텍스트 파일\n",
    "2. 준비: 파이썬에서 텍스트 파일을 구문 분석하고 누락된 값을 채움\n",
    "3. 분석: 시각적으로 데이터 검사\n",
    "4. 훈련: 가장 좋은 계수를 찾기 위해 최적화 알고리즘을 사용함\n",
    "5. 검사: 성공적인 측정을 위해 오류율을 확인함 오류율에따라 훈련 단계로 되돌아가게 하는데, 이는 반복 횟수와 단계의 크기를 조절하여 더 좋은 회귀계수값을 찾도록 하기 위함임\n",
    "6. 사용: 말의 증상을 수집하기 위해 간단한 커맨드라인프로그램을 구축하고 생사를 진단함\n",
    "\n",
    "## 5.3.1 준비: 데이터에서 누락된 값 다루기\n",
    "* 사용 가능한 모든 데이터에서 속성의 평균값을 사용함\n",
    "* 알려지지 않은 값은 -1과 같은 특별한 값으로 채움\n",
    "* 사례를 무시\n",
    "* 유사한 아이템들로부터의 평균값을 사용함\n",
    "* 값을 예측하기 위해 다른 기계 학습 알고리즘을 사용함\n",
    "\n",
    "## 5.3.2 검사: 로지스틱 회귀로 분류하기"
   ]
  },
  {
   "cell_type": "code",
   "execution_count": 22,
   "metadata": {
    "collapsed": false
   },
   "outputs": [],
   "source": [
    "#5.5 로지스틱 회귀 분류 함수\n",
    "def classifyVector(inX, weights):\n",
    "    prob = sigmoid(sum(inX*weights))\n",
    "    if prob > 0.5: \n",
    "        return 1.0\n",
    "    else: \n",
    "        return 0.0\n",
    "    \n",
    "def colicTest():\n",
    "    frTrain = open('horseColicTraining.txt')\n",
    "    frTest = open('horseColicTest.txt')\n",
    "    trainingSet = []; trainingLabels = []\n",
    "    for line in frTrain.readlines():\n",
    "        currLine = line.strip().split('\\t')\n",
    "        lineArr =[]\n",
    "        for i in range(21):\n",
    "            lineArr.append(float(currLine[i]))\n",
    "        trainingSet.append(lineArr)\n",
    "        trainingLabels.append(float(currLine[21]))\n",
    "    trainWeights = stocGradAscent1(array(trainingSet), trainingLabels, 500)\n",
    "    errorCount = 0; numTestVec = 0.0\n",
    "    for line in frTest.readlines():\n",
    "        numTestVec += 1.0\n",
    "        currLine = line.strip().split('\\t')\n",
    "        lineArr =[]\n",
    "        for i in range(21):\n",
    "            lineArr.append(float(currLine[i]))\n",
    "        if int(classifyVector(array(lineArr), trainWeights))!= int(currLine[21]):\n",
    "            errorCount += 1\n",
    "    errorRate = (float(errorCount)/numTestVec)\n",
    "    print (\"the error rate of this test is: %f\" % errorRate)\n",
    "    return errorRate\n",
    "\n",
    "def multiTest():\n",
    "    numTests = 10; errorSum=0.0\n",
    "    for k in range(numTests):\n",
    "        errorSum += colicTest()\n",
    "    print (\"after %d iterations the average error rate is:%f\" % (numTests, errorSum/float(numTests)))"
   ]
  },
  {
   "cell_type": "code",
   "execution_count": 23,
   "metadata": {
    "collapsed": false
   },
   "outputs": [
    {
     "name": "stderr",
     "output_type": "stream",
     "text": [
      "C:\\Users\\cathy_000\\Anaconda2\\lib\\site-packages\\ipykernel\\__main__.py:14: RuntimeWarning: overflow encountered in exp\n"
     ]
    },
    {
     "name": "stdout",
     "output_type": "stream",
     "text": [
      "the error rate of this test is: 0.313433\n",
      "the error rate of this test is: 0.447761\n",
      "the error rate of this test is: 0.268657\n",
      "the error rate of this test is: 0.358209\n",
      "the error rate of this test is: 0.298507\n",
      "the error rate of this test is: 0.447761\n",
      "the error rate of this test is: 0.298507\n",
      "the error rate of this test is: 0.313433\n",
      "the error rate of this test is: 0.343284\n",
      "the error rate of this test is: 0.313433\n",
      "after 10 iterations the average error rate is:0.340299\n"
     ]
    }
   ],
   "source": [
    "multiTest()"
   ]
  }
 ],
 "metadata": {
  "kernelspec": {
   "display_name": "Python 2",
   "language": "python",
   "name": "python2"
  },
  "language_info": {
   "codemirror_mode": {
    "name": "ipython",
    "version": 2
   },
   "file_extension": ".py",
   "mimetype": "text/x-python",
   "name": "python",
   "nbconvert_exporter": "python",
   "pygments_lexer": "ipython2",
   "version": "2.7.11"
  }
 },
 "nbformat": 4,
 "nbformat_minor": 0
}
